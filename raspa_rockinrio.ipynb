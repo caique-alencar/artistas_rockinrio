{
 "cells": [
  {
   "cell_type": "code",
   "execution_count": 10,
   "metadata": {},
   "outputs": [],
   "source": [
    "import json\n",
    "spotify_credentials = {}\n",
    "spotify_credentials['username'] = '12148310296'\n",
    "spotify_credentials['client_id'] = '935cd7c979194f49a9a0dad2983872c0'\n",
    "spotify_credentials['client_secret'] = 'ae4d9ca787e748cc8e6ef08060dab211'\n",
    "spotify_credentials['redirect_uri'] = 'http://localhost:8000/'\n",
    "spotify_credentials['scope'] = 'playlist-modify-public'\n",
    "with open('credenciais_spotify.json', 'w') as secret_info:\n",
    "  json.dump(spotify_credentials, secret_info, indent=4, sort_keys=True)"
   ]
  },
  {
   "cell_type": "code",
   "execution_count": 11,
   "metadata": {},
   "outputs": [],
   "source": [
    "# Documentação da API do Spotify: https://developer.spotify.com/documentation/web-api/\n",
    "# Documentação de referências do Spotify: https://developer.spotify.com/documentation/web-api/reference/object-model/\n",
    "\n",
    "import json\n",
    "import spotipy\n",
    "import spotipy.util as util\n",
    "import pandas\n",
    "\n",
    "# Carrega as credenciais da API do Spotify\n",
    "# Nesse caso, as credenciais estão em um JSON salvo no mesmo diretório, que vai ser puxado pelo código\n",
    "with open('credenciais_spotify.json') as cred_data:\n",
    "    info = json.load(cred_data)\n",
    "    username = info['username']\n",
    "    client_id = info['client_id']\n",
    "    client_secret = info['client_secret']\n",
    "    redirect_uri = info['redirect_uri']\n",
    "    scope = info['scope']\n",
    "\n",
    "# Autorização e inicialização da spotipy\n",
    "token = util.prompt_for_user_token(username = username, \n",
    "                                   scope = scope, \n",
    "                                   client_id = client_id, \n",
    "                                   client_secret = client_secret, \n",
    "                                   redirect_uri = redirect_uri)\n",
    "sp = spotipy.Spotify(auth=token)"
   ]
  },
  {
   "cell_type": "code",
   "execution_count": 12,
   "metadata": {},
   "outputs": [
    {
     "name": "stdout",
     "output_type": "stream",
     "text": [
      "[{'Artista': 'Drake', 'Seguidores': 40530068, 'Popularidade': 97}, {'Artista': 'Ellie Goulding', 'Seguidores': 6930954, 'Popularidade': 84}, {'Artista': 'Bebe Rexha', 'Seguidores': 4042988, 'Popularidade': 86}, {'Artista': 'Alok', 'Seguidores': 6202692, 'Popularidade': 79}, {'Artista': 'Foo Fighters', 'Seguidores': 6729663, 'Popularidade': 79}, {'Artista': 'Weezer', 'Seguidores': 1761482, 'Popularidade': 75}, {'Artista': 'Tenacious D', 'Seguidores': 975827, 'Popularidade': 66}, {'Artista': 'CPM 22', 'Seguidores': 574357, 'Popularidade': 61}, {'Artista': 'Raimundos', 'Seguidores': 889766, 'Popularidade': 63}, {'Artista': 'Bon Jovi', 'Seguidores': 6451732, 'Popularidade': 80}, {'Artista': 'Dave Matthews Band', 'Seguidores': 1132280, 'Popularidade': 70}, {'Artista': 'The Goo Goo Dolls', 'Seguidores': 1375003, 'Popularidade': 72}, {'Artista': 'Ivete Sangalo', 'Seguidores': 1219171, 'Popularidade': 67}, {'Artista': 'Red Hot Chili Peppers', 'Seguidores': 11498911, 'Popularidade': 84}, {'Artista': 'Panic! At The Disco', 'Seguidores': 7907430, 'Popularidade': 86}, {'Artista': 'Nile Rodgers', 'Seguidores': 53734, 'Popularidade': 69}, {'Artista': 'Capital Inicial', 'Seguidores': 1777195, 'Popularidade': 65}, {'Artista': 'Iron Maiden', 'Seguidores': 4609300, 'Popularidade': 75}, {'Artista': 'Scorpions', 'Seguidores': 2676219, 'Popularidade': 74}, {'Artista': 'Helloween', 'Seguidores': 592032, 'Popularidade': 61}, {'Artista': 'Sepultura', 'Seguidores': 872123, 'Popularidade': 59}, {'Artista': 'P!nk', 'Seguidores': 7008862, 'Popularidade': 84}, {'Artista': 'The Black Eyed Peas', 'Seguidores': 3686838, 'Popularidade': 78}, {'Artista': 'H.E.R.', 'Seguidores': 1719371, 'Popularidade': 79}, {'Artista': 'Anitta', 'Seguidores': 8018116, 'Popularidade': 83}, {'Artista': 'Muse', 'Seguidores': 5212434, 'Popularidade': 79}, {'Artista': 'Imagine Dragons', 'Seguidores': 21876802, 'Popularidade': 89}, {'Artista': 'Nickelback', 'Seguidores': 3835202, 'Popularidade': 77}, {'Artista': 'Os Paralamas Do Sucesso', 'Seguidores': 1085481, 'Popularidade': 64}]\n"
     ]
    }
   ],
   "source": [
    "artistas = [\"3TVXtAsR1Inumwj472S9r4\", \"0X2BH1fck6amBIoJhDVmmJ\", \"64M6ah0SkkRsnPGtGiRAbb\", \"0NGAZxHanS9e0iNHpR8f2W\",\n",
    "           \"7jy3rLJdDQY21OgRLCZ9sD\", \"3jOstUTkEu2JkjvRdBA5Gu\", \"1XpDYCrUJnvCo9Ez6yeMWh\", \"2Jw4Lrfjnyv2QsDoBgnrAP\",\n",
    "           \"3CfJckVRuukdJSvK3r89yJ\", \"58lV9VcRSjABbAbfWS6skp\", \"2TI7qyDE0QfyOlnbtfDo7L\", \"2sil8z5kiy4r76CRTXxBCA\",\n",
    "           \"7dzq55YG3wjViqexDwiycQ\", \"0L8ExT028jH3ddEcZwqJJ5\", \"20JZFwl6HVl6yg8a4H3ZqK\", \"3yDIp0kaq9EFKe07X1X2rz\",\n",
    "           \"4Z0yuwHVJBROVZqFpTIr0d\", \"6mdiAmATAx73kdxrNrnlao\", \"27T030eWyCQRmDyuvr1kxY\", \"4pQN0GB0fNEEOfQCaWotsY\",\n",
    "           \"6JW8wliOEwaDZ231ZY7cf4\", \"1KCSPY1glIKqW2TotWuXOR\", \"1yxSLGMDHlW21z4YXirZDS\", \"3Y7RZ31TRPVadSFVy1o8os\",\n",
    "           \"7FNnA9vBm6EKceENgCGRMb\", \"12Chz98pHFMPJEknJQMWvI\", \"53XhwfbYqKCa1cC15pYq2q\", \"6deZN1bslXzeGvOLaLMOIF\",\n",
    "           \"7EM9m7HOXxVgP9oEpDDv70\"]\n",
    "planilha = []\n",
    "\n",
    "for artista in artistas:\n",
    "    \n",
    "    sopa_artista = sp.artist(artista)\n",
    "    \n",
    "    # Pega nome do artista\n",
    "    nome = sopa_artista[\"name\"]\n",
    "\n",
    "    # Pega número de seguidores\n",
    "    seguidores = sopa_artista[\"followers\"]\n",
    "    total_seguidores = seguidores[\"total\"]\n",
    "\n",
    "    # Pega popularidade\n",
    "    popularidade = sopa_artista[\"popularity\"]\n",
    "\n",
    "    dicionario = {\"Artista\": nome, \"Seguidores\": total_seguidores, \"Popularidade\": popularidade}\n",
    "    planilha.append(dicionario)\n",
    "\n",
    "print(planilha)\n",
    "\n",
    "df = pandas.DataFrame(planilha)\n",
    "df.sort_values(by = \"Artista\", ascending = True)\n",
    "df.to_csv(\"artistas_rockinrio.csv\", sep=\";\", encoding='utf-8')"
   ]
  },
  {
   "cell_type": "code",
   "execution_count": null,
   "metadata": {},
   "outputs": [],
   "source": []
  }
 ],
 "metadata": {
  "kernelspec": {
   "display_name": "Python 3",
   "language": "python",
   "name": "python3"
  },
  "language_info": {
   "codemirror_mode": {
    "name": "ipython",
    "version": 3
   },
   "file_extension": ".py",
   "mimetype": "text/x-python",
   "name": "python",
   "nbconvert_exporter": "python",
   "pygments_lexer": "ipython3",
   "version": "3.7.4"
  }
 },
 "nbformat": 4,
 "nbformat_minor": 2
}
